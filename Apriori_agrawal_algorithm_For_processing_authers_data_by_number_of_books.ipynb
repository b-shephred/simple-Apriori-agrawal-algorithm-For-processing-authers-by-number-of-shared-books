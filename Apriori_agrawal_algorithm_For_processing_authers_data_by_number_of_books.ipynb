{
  "nbformat": 4,
  "nbformat_minor": 0,
  "metadata": {
    "colab": {
      "provenance": []
    },
    "kernelspec": {
      "name": "python3",
      "display_name": "Python 3"
    },
    "language_info": {
      "name": "python"
    }
  },
  "cells": [
    {
      "cell_type": "code",
      "execution_count": 92,
      "metadata": {
        "colab": {
          "base_uri": "https://localhost:8080/"
        },
        "id": "mLi-6Lm5IcCx",
        "outputId": "9fd05562-1a89-4043-9551-19b3f1d3e864"
      },
      "outputs": [
        {
          "output_type": "stream",
          "name": "stdout",
          "text": [
            "10 sets of authors among the most frequent sets by specifing the number of shared books\n",
            "('Baveye, Philippe C.', 'Falconer, Ruth E.') === 117\n",
            "('Baveye, Philippe C.', 'Otten, Wilfred') === 145\n",
            "('Baveye, Philippe C.', 'Hapca, Simona M.') === 115\n",
            "('Crawford, John W.', 'Young, Iain M.') === 176\n",
            "('Crawford, John W.', 'Otten, Wilfred') === 131\n",
            "('Falconer, Ruth E.', 'Otten, Wilfred') === 126\n",
            "('Young, Iain M.', 'Otten, Wilfred') === 133\n",
            "('Young, Iain M.', 'Hapca, Simona M.') === 115\n",
            "('Otten, Wilfred', 'Hapca, Simona M.') === 139\n",
            "('Bown, James L.', 'Goltsov, Alexey') === 131\n",
            "('Lindsay, William R.', 'Carson, Derek') === 115\n",
            "\n",
            "\n",
            "\n",
            "the rules of association with the highest degrees of confidence::\n",
            "Baveye, Philippe C. -----> Falconer, Ruth E.\n",
            "Falconer, Ruth E. -----> Baveye, Philippe C.\n",
            "Baveye, Philippe C. -----> Otten, Wilfred\n",
            "Otten, Wilfred -----> Baveye, Philippe C.\n",
            "Baveye, Philippe C. -----> Hapca, Simona M.\n",
            "Hapca, Simona M. -----> Baveye, Philippe C.\n",
            "Crawford, John W. -----> Young, Iain M.\n",
            "Young, Iain M. -----> Crawford, John W.\n",
            "Crawford, John W. -----> Otten, Wilfred\n",
            "Otten, Wilfred -----> Crawford, John W.\n",
            "Falconer, Ruth E. -----> Otten, Wilfred\n",
            "Otten, Wilfred -----> Falconer, Ruth E.\n",
            "Young, Iain M. -----> Otten, Wilfred\n",
            "Otten, Wilfred -----> Young, Iain M.\n",
            "Young, Iain M. -----> Hapca, Simona M.\n",
            "Hapca, Simona M. -----> Young, Iain M.\n",
            "Otten, Wilfred -----> Hapca, Simona M.\n",
            "Hapca, Simona M. -----> Otten, Wilfred\n",
            "Bown, James L. -----> Goltsov, Alexey\n",
            "Goltsov, Alexey -----> Bown, James L.\n",
            "Lindsay, William R. -----> Carson, Derek\n",
            "Carson, Derek -----> Lindsay, William R.\n"
          ]
        }
      ],
      "source": [
        "import pickle\n",
        "\n",
        "\n",
        "File = open('T_hashR_07_Concepts_Only.dat', 'rb')\n",
        "\n",
        "data = pickle.load(File)\n",
        "\n",
        "#data = { \"A\":[\"X\",\"Y\",\"Z\"], \"B\":[\"X\",\"S\",\"S\"] }\n",
        "\n",
        "seperate_data = []\n",
        "\n",
        "authers = []\n",
        "for key, value in data.items():\n",
        "  for auther in value:\n",
        "    if auther not in authers:\n",
        "      authers.append(auther)\n",
        "\n",
        "\n",
        "\n",
        "auther_Thierbooks = dict()\n",
        "for auther in authers:\n",
        "  books = []\n",
        "\n",
        "  for key,value in data.items():\n",
        "    if auther in value:\n",
        "      books.append(key)\n",
        "\n",
        "  auther_Thierbooks[auther]= books\n",
        "\n",
        "\n",
        "minimum_number_of_books = 115\n",
        "\n",
        "auther_superier_then_percentege = dict()\n",
        "for key, value in auther_Thierbooks.items():\n",
        "  if len(value)>=minimum_number_of_books:\n",
        "    auther_superier_then_percentege[key] = value\n",
        "\n",
        "auther_superier_then_percentege_list = []\n",
        "for key,value in auther_superier_then_percentege.items():\n",
        "  auther_superier_then_percentege_list.append(key)\n",
        "\n",
        "\n",
        "\n",
        "two_auther_superier_then_percentege = dict()\n",
        "for item in range(len(auther_superier_then_percentege_list)):\n",
        "    \n",
        "    for i in range(item+1,len(auther_superier_then_percentege_list)):\n",
        "      books = []\n",
        "      for j in auther_superier_then_percentege[auther_superier_then_percentege_list[i]]:\n",
        "        if j in auther_superier_then_percentege[auther_superier_then_percentege_list[item]]:\n",
        "          books.append(j)\n",
        "\n",
        "      if len(books) >= minimum_number_of_books:\n",
        "         tuple_str = tuple([auther_superier_then_percentege_list[item],auther_superier_then_percentege_list[i]])\n",
        "         two_auther_superier_then_percentege[tuple_str] = len(books)\n",
        "      \n",
        "\n",
        "print(\"10 sets of authors among the most frequent sets by specifing the number of shared books\")    \n",
        "for key,value in two_auther_superier_then_percentege.items():\n",
        "  print(f'{key} === {value}')\n",
        "\n",
        "print(\"\\n\\n\")\n",
        "\n",
        "print(\"the rules of association with the highest degrees of confidence::\")\n",
        "for key, value in two_auther_superier_then_percentege.items():\n",
        "    print(key[0],\"----->\",key[1])\n",
        "    print(key[1],\"----->\",key[0])"
      ]
    },
    {
      "cell_type": "code",
      "source": [
        "x = (\"a\",\"b\")\n",
        "x[1]"
      ],
      "metadata": {
        "id": "S0TlrngLcCrE",
        "colab": {
          "base_uri": "https://localhost:8080/",
          "height": 35
        },
        "outputId": "81a822cf-dc53-4b90-dd0b-0fc497bef29c"
      },
      "execution_count": 59,
      "outputs": [
        {
          "output_type": "execute_result",
          "data": {
            "text/plain": [
              "'b'"
            ],
            "application/vnd.google.colaboratory.intrinsic+json": {
              "type": "string"
            }
          },
          "metadata": {},
          "execution_count": 59
        }
      ]
    }
  ]
}